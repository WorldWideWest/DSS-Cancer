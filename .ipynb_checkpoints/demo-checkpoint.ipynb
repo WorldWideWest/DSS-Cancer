{
 "cells": [
  {
   "cell_type": "code",
   "execution_count": null,
   "metadata": {},
   "outputs": [],
   "source": [
    "import torch\n",
    "from torch.nn.functional import cross_entropy\n",
    "from preprocessing import Preprocessing\n",
    "from network import Network, Trainer"
   ]
  },
  {
   "cell_type": "code",
   "execution_count": null,
   "metadata": {},
   "outputs": [],
   "source": [
    "preprocessing = Preprocessing()"
   ]
  },
  {
   "cell_type": "code",
   "execution_count": null,
   "metadata": {},
   "outputs": [],
   "source": [
    "demoData = preprocessing.DataReader(\"demo\")"
   ]
  },
  {
   "cell_type": "code",
   "execution_count": null,
   "metadata": {},
   "outputs": [],
   "source": [
    "demoIndicies = preprocessing.AppendIndicies(demoData)"
   ]
  },
  {
   "cell_type": "code",
   "execution_count": null,
   "metadata": {},
   "outputs": [],
   "source": [
    "demoDataLoader = preprocessing.DataLoader(demoIndicies, demoData, batchSize = 64)"
   ]
  },
  {
   "cell_type": "code",
   "execution_count": null,
   "metadata": {},
   "outputs": [],
   "source": [
    "preprocessing.ShowGrid(demoDataLoader)"
   ]
  },
  {
   "cell_type": "code",
   "execution_count": null,
   "metadata": {},
   "outputs": [],
   "source": [
    "network = Network()\n",
    "trainer = Trainer()\n",
    "PATH = \"./model/model.pth\"\n",
    "network.load_state_dict(torch.load(PATH))\n",
    "network.eval()"
   ]
  },
  {
   "cell_type": "code",
   "execution_count": null,
   "metadata": {},
   "outputs": [],
   "source": [
    "totalLoss, totalAcc = 0, 0\n",
    "for images, targets in demoDataLoader:\n",
    "    \n",
    "    predictions = network(images)\n",
    "    loss = cross_entropy(predictions, targets)\n",
    "    \n",
    "    totalLoss += loss.item()\n",
    "    totalAcc += trainer.Correct(predictions, targets)"
   ]
  },
  {
   "cell_type": "code",
   "execution_count": null,
   "metadata": {},
   "outputs": [],
   "source": [
    "count = len(demoData)\n",
    "testingAcc = totalAcc / count\n",
    "wrong = count - totalAcc\n",
    "print(f\"Testing dataset: {count}\\t Predicted Correct: {totalAcc}\\t Predicted Wrong: {wrong}\\t Testing Accuracy (%): {testingAcc * 100}\")"
   ]
  },
  {
   "cell_type": "code",
   "execution_count": null,
   "metadata": {},
   "outputs": [],
   "source": []
  }
 ],
 "metadata": {
  "kernelspec": {
   "display_name": "Python 3",
   "language": "python",
   "name": "python3"
  },
  "language_info": {
   "codemirror_mode": {
    "name": "ipython",
    "version": 3
   },
   "file_extension": ".py",
   "mimetype": "text/x-python",
   "name": "python",
   "nbconvert_exporter": "python",
   "pygments_lexer": "ipython3",
   "version": "3.8.5"
  }
 },
 "nbformat": 4,
 "nbformat_minor": 4
}
