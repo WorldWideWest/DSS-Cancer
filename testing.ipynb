{
 "cells": [
  {
   "cell_type": "code",
   "execution_count": 1,
   "metadata": {},
   "outputs": [],
   "source": [
    "from network import Network\n",
    "from preprocessing import Preprocessing"
   ]
  },
  {
   "cell_type": "code",
   "execution_count": 2,
   "metadata": {},
   "outputs": [
    {
     "data": {
      "text/plain": [
       "Network(\n",
       "  (conv1): Conv2d(3, 6, kernel_size=(5, 5), stride=(1, 1))\n",
       "  (conv2): Conv2d(6, 12, kernel_size=(5, 5), stride=(1, 1))\n",
       "  (conv3): Conv2d(12, 24, kernel_size=(5, 5), stride=(1, 1))\n",
       "  (conv4): Conv2d(24, 48, kernel_size=(5, 5), stride=(1, 1))\n",
       "  (conv5): Conv2d(48, 96, kernel_size=(5, 5), stride=(1, 1))\n",
       "  (conv6): Conv2d(96, 192, kernel_size=(5, 5), stride=(1, 1))\n",
       "  (conv7): Conv2d(192, 384, kernel_size=(5, 5), stride=(1, 1))\n",
       "  (conv8): Conv2d(384, 768, kernel_size=(5, 5), stride=(1, 1))\n",
       "  (fc1): Linear(in_features=3072, out_features=96, bias=True)\n",
       "  (fc2): Linear(in_features=96, out_features=48, bias=True)\n",
       "  (fc3): Linear(in_features=48, out_features=24, bias=True)\n",
       "  (fc4): Linear(in_features=24, out_features=12, bias=True)\n",
       "  (fc5): Linear(in_features=12, out_features=6, bias=True)\n",
       "  (out): Linear(in_features=6, out_features=2, bias=True)\n",
       ")"
      ]
     },
     "execution_count": 2,
     "metadata": {},
     "output_type": "execute_result"
    }
   ],
   "source": [
    "network = Network()\n",
    "network"
   ]
  },
  {
   "cell_type": "code",
   "execution_count": 3,
   "metadata": {},
   "outputs": [
    {
     "data": {
      "text/plain": [
       "torch.Size([6, 3, 5, 5])"
      ]
     },
     "execution_count": 3,
     "metadata": {},
     "output_type": "execute_result"
    }
   ],
   "source": [
    "network.conv1.weight.shape"
   ]
  },
  {
   "cell_type": "code",
   "execution_count": 4,
   "metadata": {},
   "outputs": [],
   "source": [
    "preprocessing = Preprocessing()"
   ]
  },
  {
   "cell_type": "code",
   "execution_count": 5,
   "metadata": {},
   "outputs": [
    {
     "data": {
      "text/plain": [
       "Dataset ImageFolder\n",
       "    Number of datapoints: 41567\n",
       "    Root location: ../dataSet/training\n",
       "    StandardTransform\n",
       "Transform: ToTensor()"
      ]
     },
     "execution_count": 5,
     "metadata": {},
     "output_type": "execute_result"
    }
   ],
   "source": [
    "data = preprocessing.DataReader(folder = \"training\")\n",
    "data"
   ]
  },
  {
   "cell_type": "code",
   "execution_count": 6,
   "metadata": {},
   "outputs": [
    {
     "data": {
      "image/png": "[encoded data removed]",
      "text/plain": [
       "<Figure size 432x288 with 1 Axes>"
      ]
     },
     "metadata": {
      "needs_background": "light"
     },
     "output_type": "display_data"
    }
   ],
   "source": [
    "img, label = data[0]\n",
    "preprocessing.ShowImage(img)"
   ]
  },
  {
   "cell_type": "code",
   "execution_count": 7,
   "metadata": {},
   "outputs": [],
   "source": [
    "trainingIndicies = preprocessing.AppendIndicies(data)"
   ]
  },
  {
   "cell_type": "code",
   "execution_count": 8,
   "metadata": {},
   "outputs": [],
   "source": [
    "trainingData = preprocessing.DataLoader(trainingIndicies, data)"
   ]
  },
  {
   "cell_type": "code",
   "execution_count": 9,
   "metadata": {},
   "outputs": [
    {
     "data": {
      "text/plain": [
       "<torch.utils.data.dataloader.DataLoader at 0x7f82cc24d4c0>"
      ]
     },
     "execution_count": 9,
     "metadata": {},
     "output_type": "execute_result"
    }
   ],
   "source": [
    "trainingData"
   ]
  },
  {
   "cell_type": "code",
   "execution_count": 10,
   "metadata": {},
   "outputs": [
    {
     "ename": "RuntimeError",
     "evalue": "stack expects each tensor to be equal size, but got [3, 50, 50] at entry 0 and [3, 40, 50] at entry 22",
     "output_type": "error",
     "traceback": [
      "\u001b[0;31m-------------------------------------------------------------------\u001b[0m",
      "\u001b[0;31mRuntimeError\u001b[0m                      Traceback (most recent call last)",
      "\u001b[0;32m<ipython-input-10-7c47ec210923>\u001b[0m in \u001b[0;36m<module>\u001b[0;34m\u001b[0m\n\u001b[0;32m----> 1\u001b[0;31m \u001b[0mpreprocessing\u001b[0m\u001b[0;34m.\u001b[0m\u001b[0mShowGrid\u001b[0m\u001b[0;34m(\u001b[0m\u001b[0mtrainingData\u001b[0m\u001b[0;34m)\u001b[0m\u001b[0;34m\u001b[0m\u001b[0;34m\u001b[0m\u001b[0m\n\u001b[0m",
      "\u001b[0;32m/mnt/f/PythonDevelopment/DSS-Cancer/preprocessing.py\u001b[0m in \u001b[0;36mShowGrid\u001b[0;34m(self, dataLoader)\u001b[0m\n\u001b[1;32m     48\u001b[0m \u001b[0;34m\u001b[0m\u001b[0m\n\u001b[1;32m     49\u001b[0m     \u001b[0;32mdef\u001b[0m \u001b[0mShowGrid\u001b[0m\u001b[0;34m(\u001b[0m\u001b[0mself\u001b[0m\u001b[0;34m,\u001b[0m \u001b[0mdataLoader\u001b[0m\u001b[0;34m)\u001b[0m\u001b[0;34m:\u001b[0m\u001b[0;34m\u001b[0m\u001b[0;34m\u001b[0m\u001b[0m\n\u001b[0;32m---> 50\u001b[0;31m         \u001b[0;32mfor\u001b[0m \u001b[0mimage\u001b[0m\u001b[0;34m,\u001b[0m \u001b[0mlabels\u001b[0m \u001b[0;32min\u001b[0m \u001b[0mdataLoader\u001b[0m\u001b[0;34m:\u001b[0m\u001b[0;34m\u001b[0m\u001b[0;34m\u001b[0m\u001b[0m\n\u001b[0m\u001b[1;32m     51\u001b[0m             \u001b[0mfig\u001b[0m\u001b[0;34m,\u001b[0m \u001b[0max\u001b[0m \u001b[0;34m=\u001b[0m \u001b[0mplt\u001b[0m\u001b[0;34m.\u001b[0m\u001b[0msubplots\u001b[0m\u001b[0;34m(\u001b[0m\u001b[0mfigsize\u001b[0m\u001b[0;34m=\u001b[0m\u001b[0;34m(\u001b[0m\u001b[0;36m8\u001b[0m\u001b[0;34m,\u001b[0m \u001b[0;36m4\u001b[0m\u001b[0;34m)\u001b[0m\u001b[0;34m)\u001b[0m\u001b[0;34m\u001b[0m\u001b[0;34m\u001b[0m\u001b[0m\n\u001b[1;32m     52\u001b[0m             \u001b[0max\u001b[0m\u001b[0;34m.\u001b[0m\u001b[0mset_xticks\u001b[0m\u001b[0;34m(\u001b[0m\u001b[0;34m[\u001b[0m\u001b[0;34m]\u001b[0m\u001b[0;34m)\u001b[0m\u001b[0;34m;\u001b[0m \u001b[0max\u001b[0m\u001b[0;34m.\u001b[0m\u001b[0mset_yticks\u001b[0m\u001b[0;34m(\u001b[0m\u001b[0;34m[\u001b[0m\u001b[0;34m]\u001b[0m\u001b[0;34m)\u001b[0m\u001b[0;34m\u001b[0m\u001b[0;34m\u001b[0m\u001b[0m\n",
      "\u001b[0;32m~/.local/lib/python3.8/site-packages/torch/utils/data/dataloader.py\u001b[0m in \u001b[0;36m__next__\u001b[0;34m(self)\u001b[0m\n\u001b[1;32m    433\u001b[0m         \u001b[0;32mif\u001b[0m \u001b[0mself\u001b[0m\u001b[0;34m.\u001b[0m\u001b[0m_sampler_iter\u001b[0m \u001b[0;32mis\u001b[0m \u001b[0;32mNone\u001b[0m\u001b[0;34m:\u001b[0m\u001b[0;34m\u001b[0m\u001b[0;34m\u001b[0m\u001b[0m\n\u001b[1;32m    434\u001b[0m             \u001b[0mself\u001b[0m\u001b[0;34m.\u001b[0m\u001b[0m_reset\u001b[0m\u001b[0;34m(\u001b[0m\u001b[0;34m)\u001b[0m\u001b[0;34m\u001b[0m\u001b[0;34m\u001b[0m\u001b[0m\n\u001b[0;32m--> 435\u001b[0;31m         \u001b[0mdata\u001b[0m \u001b[0;34m=\u001b[0m \u001b[0mself\u001b[0m\u001b[0;34m.\u001b[0m\u001b[0m_next_data\u001b[0m\u001b[0;34m(\u001b[0m\u001b[0;34m)\u001b[0m\u001b[0;34m\u001b[0m\u001b[0;34m\u001b[0m\u001b[0m\n\u001b[0m\u001b[1;32m    436\u001b[0m         \u001b[0mself\u001b[0m\u001b[0;34m.\u001b[0m\u001b[0m_num_yielded\u001b[0m \u001b[0;34m+=\u001b[0m \u001b[0;36m1\u001b[0m\u001b[0;34m\u001b[0m\u001b[0;34m\u001b[0m\u001b[0m\n\u001b[1;32m    437\u001b[0m         \u001b[0;32mif\u001b[0m \u001b[0mself\u001b[0m\u001b[0;34m.\u001b[0m\u001b[0m_dataset_kind\u001b[0m \u001b[0;34m==\u001b[0m \u001b[0m_DatasetKind\u001b[0m\u001b[0;34m.\u001b[0m\u001b[0mIterable\u001b[0m \u001b[0;32mand\u001b[0m\u001b[0;31m \u001b[0m\u001b[0;31m\\\u001b[0m\u001b[0;34m\u001b[0m\u001b[0;34m\u001b[0m\u001b[0m\n",
      "\u001b[0;32m~/.local/lib/python3.8/site-packages/torch/utils/data/dataloader.py\u001b[0m in \u001b[0;36m_next_data\u001b[0;34m(self)\u001b[0m\n\u001b[1;32m    473\u001b[0m     \u001b[0;32mdef\u001b[0m \u001b[0m_next_data\u001b[0m\u001b[0;34m(\u001b[0m\u001b[0mself\u001b[0m\u001b[0;34m)\u001b[0m\u001b[0;34m:\u001b[0m\u001b[0;34m\u001b[0m\u001b[0;34m\u001b[0m\u001b[0m\n\u001b[1;32m    474\u001b[0m         \u001b[0mindex\u001b[0m \u001b[0;34m=\u001b[0m \u001b[0mself\u001b[0m\u001b[0;34m.\u001b[0m\u001b[0m_next_index\u001b[0m\u001b[0;34m(\u001b[0m\u001b[0;34m)\u001b[0m  \u001b[0;31m# may raise StopIteration\u001b[0m\u001b[0;34m\u001b[0m\u001b[0;34m\u001b[0m\u001b[0m\n\u001b[0;32m--> 475\u001b[0;31m         \u001b[0mdata\u001b[0m \u001b[0;34m=\u001b[0m \u001b[0mself\u001b[0m\u001b[0;34m.\u001b[0m\u001b[0m_dataset_fetcher\u001b[0m\u001b[0;34m.\u001b[0m\u001b[0mfetch\u001b[0m\u001b[0;34m(\u001b[0m\u001b[0mindex\u001b[0m\u001b[0;34m)\u001b[0m  \u001b[0;31m# may raise StopIteration\u001b[0m\u001b[0;34m\u001b[0m\u001b[0;34m\u001b[0m\u001b[0m\n\u001b[0m\u001b[1;32m    476\u001b[0m         \u001b[0;32mif\u001b[0m \u001b[0mself\u001b[0m\u001b[0;34m.\u001b[0m\u001b[0m_pin_memory\u001b[0m\u001b[0;34m:\u001b[0m\u001b[0;34m\u001b[0m\u001b[0;34m\u001b[0m\u001b[0m\n\u001b[1;32m    477\u001b[0m             \u001b[0mdata\u001b[0m \u001b[0;34m=\u001b[0m \u001b[0m_utils\u001b[0m\u001b[0;34m.\u001b[0m\u001b[0mpin_memory\u001b[0m\u001b[0;34m.\u001b[0m\u001b[0mpin_memory\u001b[0m\u001b[0;34m(\u001b[0m\u001b[0mdata\u001b[0m\u001b[0;34m)\u001b[0m\u001b[0;34m\u001b[0m\u001b[0;34m\u001b[0m\u001b[0m\n",
      "\u001b[0;32m~/.local/lib/python3.8/site-packages/torch/utils/data/_utils/fetch.py\u001b[0m in \u001b[0;36mfetch\u001b[0;34m(self, possibly_batched_index)\u001b[0m\n\u001b[1;32m     45\u001b[0m         \u001b[0;32melse\u001b[0m\u001b[0;34m:\u001b[0m\u001b[0;34m\u001b[0m\u001b[0;34m\u001b[0m\u001b[0m\n\u001b[1;32m     46\u001b[0m             \u001b[0mdata\u001b[0m \u001b[0;34m=\u001b[0m \u001b[0mself\u001b[0m\u001b[0;34m.\u001b[0m\u001b[0mdataset\u001b[0m\u001b[0;34m[\u001b[0m\u001b[0mpossibly_batched_index\u001b[0m\u001b[0;34m]\u001b[0m\u001b[0;34m\u001b[0m\u001b[0;34m\u001b[0m\u001b[0m\n\u001b[0;32m---> 47\u001b[0;31m         \u001b[0;32mreturn\u001b[0m \u001b[0mself\u001b[0m\u001b[0;34m.\u001b[0m\u001b[0mcollate_fn\u001b[0m\u001b[0;34m(\u001b[0m\u001b[0mdata\u001b[0m\u001b[0;34m)\u001b[0m\u001b[0;34m\u001b[0m\u001b[0;34m\u001b[0m\u001b[0m\n\u001b[0m",
      "\u001b[0;32m~/.local/lib/python3.8/site-packages/torch/utils/data/_utils/collate.py\u001b[0m in \u001b[0;36mdefault_collate\u001b[0;34m(batch)\u001b[0m\n\u001b[1;32m     81\u001b[0m             \u001b[0;32mraise\u001b[0m \u001b[0mRuntimeError\u001b[0m\u001b[0;34m(\u001b[0m\u001b[0;34m'each element in list of batch should be of equal size'\u001b[0m\u001b[0;34m)\u001b[0m\u001b[0;34m\u001b[0m\u001b[0;34m\u001b[0m\u001b[0m\n\u001b[1;32m     82\u001b[0m         \u001b[0mtransposed\u001b[0m \u001b[0;34m=\u001b[0m \u001b[0mzip\u001b[0m\u001b[0;34m(\u001b[0m\u001b[0;34m*\u001b[0m\u001b[0mbatch\u001b[0m\u001b[0;34m)\u001b[0m\u001b[0;34m\u001b[0m\u001b[0;34m\u001b[0m\u001b[0m\n\u001b[0;32m---> 83\u001b[0;31m         \u001b[0;32mreturn\u001b[0m \u001b[0;34m[\u001b[0m\u001b[0mdefault_collate\u001b[0m\u001b[0;34m(\u001b[0m\u001b[0msamples\u001b[0m\u001b[0;34m)\u001b[0m \u001b[0;32mfor\u001b[0m \u001b[0msamples\u001b[0m \u001b[0;32min\u001b[0m \u001b[0mtransposed\u001b[0m\u001b[0;34m]\u001b[0m\u001b[0;34m\u001b[0m\u001b[0;34m\u001b[0m\u001b[0m\n\u001b[0m\u001b[1;32m     84\u001b[0m \u001b[0;34m\u001b[0m\u001b[0m\n\u001b[1;32m     85\u001b[0m     \u001b[0;32mraise\u001b[0m \u001b[0mTypeError\u001b[0m\u001b[0;34m(\u001b[0m\u001b[0mdefault_collate_err_msg_format\u001b[0m\u001b[0;34m.\u001b[0m\u001b[0mformat\u001b[0m\u001b[0;34m(\u001b[0m\u001b[0melem_type\u001b[0m\u001b[0;34m)\u001b[0m\u001b[0;34m)\u001b[0m\u001b[0;34m\u001b[0m\u001b[0;34m\u001b[0m\u001b[0m\n",
      "\u001b[0;32m~/.local/lib/python3.8/site-packages/torch/utils/data/_utils/collate.py\u001b[0m in \u001b[0;36m<listcomp>\u001b[0;34m(.0)\u001b[0m\n\u001b[1;32m     81\u001b[0m             \u001b[0;32mraise\u001b[0m \u001b[0mRuntimeError\u001b[0m\u001b[0;34m(\u001b[0m\u001b[0;34m'each element in list of batch should be of equal size'\u001b[0m\u001b[0;34m)\u001b[0m\u001b[0;34m\u001b[0m\u001b[0;34m\u001b[0m\u001b[0m\n\u001b[1;32m     82\u001b[0m         \u001b[0mtransposed\u001b[0m \u001b[0;34m=\u001b[0m \u001b[0mzip\u001b[0m\u001b[0;34m(\u001b[0m\u001b[0;34m*\u001b[0m\u001b[0mbatch\u001b[0m\u001b[0;34m)\u001b[0m\u001b[0;34m\u001b[0m\u001b[0;34m\u001b[0m\u001b[0m\n\u001b[0;32m---> 83\u001b[0;31m         \u001b[0;32mreturn\u001b[0m \u001b[0;34m[\u001b[0m\u001b[0mdefault_collate\u001b[0m\u001b[0;34m(\u001b[0m\u001b[0msamples\u001b[0m\u001b[0;34m)\u001b[0m \u001b[0;32mfor\u001b[0m \u001b[0msamples\u001b[0m \u001b[0;32min\u001b[0m \u001b[0mtransposed\u001b[0m\u001b[0;34m]\u001b[0m\u001b[0;34m\u001b[0m\u001b[0;34m\u001b[0m\u001b[0m\n\u001b[0m\u001b[1;32m     84\u001b[0m \u001b[0;34m\u001b[0m\u001b[0m\n\u001b[1;32m     85\u001b[0m     \u001b[0;32mraise\u001b[0m \u001b[0mTypeError\u001b[0m\u001b[0;34m(\u001b[0m\u001b[0mdefault_collate_err_msg_format\u001b[0m\u001b[0;34m.\u001b[0m\u001b[0mformat\u001b[0m\u001b[0;34m(\u001b[0m\u001b[0melem_type\u001b[0m\u001b[0;34m)\u001b[0m\u001b[0;34m)\u001b[0m\u001b[0;34m\u001b[0m\u001b[0;34m\u001b[0m\u001b[0m\n",
      "\u001b[0;32m~/.local/lib/python3.8/site-packages/torch/utils/data/_utils/collate.py\u001b[0m in \u001b[0;36mdefault_collate\u001b[0;34m(batch)\u001b[0m\n\u001b[1;32m     53\u001b[0m             \u001b[0mstorage\u001b[0m \u001b[0;34m=\u001b[0m \u001b[0melem\u001b[0m\u001b[0;34m.\u001b[0m\u001b[0mstorage\u001b[0m\u001b[0;34m(\u001b[0m\u001b[0;34m)\u001b[0m\u001b[0;34m.\u001b[0m\u001b[0m_new_shared\u001b[0m\u001b[0;34m(\u001b[0m\u001b[0mnumel\u001b[0m\u001b[0;34m)\u001b[0m\u001b[0;34m\u001b[0m\u001b[0;34m\u001b[0m\u001b[0m\n\u001b[1;32m     54\u001b[0m             \u001b[0mout\u001b[0m \u001b[0;34m=\u001b[0m \u001b[0melem\u001b[0m\u001b[0;34m.\u001b[0m\u001b[0mnew\u001b[0m\u001b[0;34m(\u001b[0m\u001b[0mstorage\u001b[0m\u001b[0;34m)\u001b[0m\u001b[0;34m\u001b[0m\u001b[0;34m\u001b[0m\u001b[0m\n\u001b[0;32m---> 55\u001b[0;31m         \u001b[0;32mreturn\u001b[0m \u001b[0mtorch\u001b[0m\u001b[0;34m.\u001b[0m\u001b[0mstack\u001b[0m\u001b[0;34m(\u001b[0m\u001b[0mbatch\u001b[0m\u001b[0;34m,\u001b[0m \u001b[0;36m0\u001b[0m\u001b[0;34m,\u001b[0m \u001b[0mout\u001b[0m\u001b[0;34m=\u001b[0m\u001b[0mout\u001b[0m\u001b[0;34m)\u001b[0m\u001b[0;34m\u001b[0m\u001b[0;34m\u001b[0m\u001b[0m\n\u001b[0m\u001b[1;32m     56\u001b[0m     \u001b[0;32melif\u001b[0m \u001b[0melem_type\u001b[0m\u001b[0;34m.\u001b[0m\u001b[0m__module__\u001b[0m \u001b[0;34m==\u001b[0m \u001b[0;34m'numpy'\u001b[0m \u001b[0;32mand\u001b[0m \u001b[0melem_type\u001b[0m\u001b[0;34m.\u001b[0m\u001b[0m__name__\u001b[0m \u001b[0;34m!=\u001b[0m \u001b[0;34m'str_'\u001b[0m\u001b[0;31m \u001b[0m\u001b[0;31m\\\u001b[0m\u001b[0;34m\u001b[0m\u001b[0;34m\u001b[0m\u001b[0m\n\u001b[1;32m     57\u001b[0m             \u001b[0;32mand\u001b[0m \u001b[0melem_type\u001b[0m\u001b[0;34m.\u001b[0m\u001b[0m__name__\u001b[0m \u001b[0;34m!=\u001b[0m \u001b[0;34m'string_'\u001b[0m\u001b[0;34m:\u001b[0m\u001b[0;34m\u001b[0m\u001b[0;34m\u001b[0m\u001b[0m\n",
      "\u001b[0;31mRuntimeError\u001b[0m: stack expects each tensor to be equal size, but got [3, 50, 50] at entry 0 and [3, 40, 50] at entry 22"
     ]
    }
   ],
   "source": [
    "preprocessing.ShowGrid(trainingData)"
   ]
  },
  {
   "cell_type": "code",
   "execution_count": null,
   "metadata": {},
   "outputs": [],
   "source": [
    "preprocessing.CheckImages(\"training/malignant/\")\n",
    "preprocessing.CheckImages(\"training/malignant/\")"
   ]
  },
  {
   "cell_type": "code",
   "execution_count": null,
   "metadata": {},
   "outputs": [],
   "source": [
    "img = ([3, 50, 50])\n",
    "img"
   ]
  },
  {
   "cell_type": "markdown",
   "metadata": {},
   "source": [
    "O = ((n - f + 2p) / s) + 1\n",
    "\n",
    "layer 1\n",
    "    convolution\n",
    "        inputSize = [1, 3, 50, 50]\n",
    "        O = ((50 - 5  + 2 * 0) / 1) + 1 = 46\n",
    "    pooling\n",
    "        inputSize = [1, 3, 46, 46]\n",
    "        O = ((46 - 5 + 2 * 1) / 1) + 1 = 44\n",
    "\n",
    "layer 2 \n",
    "    convolution\n",
    "        inputSize = [1, 6, 44, 44]\n",
    "        O = ((44 - 5  + 2 * 0) / 1) + 1 = 40\n",
    "    pooling\n",
    "        inputSize = [1, 6, 40, 40]\n",
    "        O = ((40 - 5 + 2 * 1) / 1) + 1 = 38\n",
    "\n",
    "layer 3 \n",
    "    convolution\n",
    "        inputSize = [1, 12, 38, 38]\n",
    "        O = ((38 - 5  + 2 * 0) / 1) + 1 = 34\n",
    "    pooling\n",
    "        inputSize = [1, 12, 34, 34]\n",
    "        O = ((34 - 5 + 2 * 1) / 1) + 1 = 32\n",
    "\n",
    "layer 4\n",
    "    convolution\n",
    "        inputSize = [1, 24, 32, 32]\n",
    "        O = ((32 - 5  + 2 * 0) / 1) + 1 = 28\n",
    "    pooling\n",
    "        inputSize = [1, 24, 28, 28]\n",
    "        O = ((28 - 5 + 2 * 1) / 1) + 1 = 26\n",
    "        \n",
    "layer 5\n",
    "    convolution\n",
    "        inputSize = [1, 48, 26, 26]\n",
    "        O = ((26 - 5  + 2 * 0) / 1) + 1 = 22\n",
    "    pooling\n",
    "        inputSize = [1, 48, 22, 22]\n",
    "        O = ((22 - 5 + 2 * 1) / 1) + 1 = 20\n",
    "\n",
    "layer 6\n",
    "    convolution\n",
    "        inputSize = [1, 96, 20, 20]\n",
    "        O = ((20 - 5  + 2 * 0) / 1) + 1 = 16\n",
    "    pooling\n",
    "        inputSize = [1, 96, 16, 16]\n",
    "        O = ((16 - 5 + 2 * 1) / 1) + 1 = 14\n",
    "        \n",
    "layer 7\n",
    "    convolution\n",
    "        inputSize = [1, 192, 14, 14]\n",
    "        O = ((14 - 5  + 2 * 0) / 1) + 1 = 10\n",
    "    pooling\n",
    "        inputSize = [1, 192, 10, 10]\n",
    "        O = ((40 - 5 + 2 * 1) / 1) + 1 = 8\n",
    "\n",
    "layer 8\n",
    "    convolution\n",
    "        inputSize = [1, 384, 8, 8]\n",
    "        O = ((8 - 5  + 2 * 0) / 1) + 1 = 4\n",
    "    pooling\n",
    "        inputSize = [1, 384, 4, 4]\n",
    "        O = ((4 - 5 + 2 * 1) / 1) + 1 = 2"
   ]
  },
  {
   "cell_type": "code",
   "execution_count": 11,
   "metadata": {},
   "outputs": [
    {
     "name": "stdout",
     "output_type": "stream",
     "text": [
      "../dataSet/test/benign/#e121.png\t (21, 30, 3)\n",
      "../dataSet/test/benign/9181_idx5_x401_y2751_class0.png\t (47, 50, 3)\n",
      "../dataSet/test/benign/9181_idx5_x451_y2751_class0.png\t (47, 50, 3)\n",
      "../dataSet/test/benign/9226_idx5_x101_y2801_class0.png\t (38, 50, 3)\n",
      "../dataSet/test/benign/9226_idx5_x1351_y2801_class0.png\t (38, 50, 3)\n",
      "../dataSet/test/benign/9226_idx5_x1401_y2801_class0.png\t (38, 50, 3)\n",
      "../dataSet/test/benign/9226_idx5_x1451_y2801_class0.png\t (38, 50, 3)\n",
      "../dataSet/test/benign/9226_idx5_x1501_y2801_class0.png\t (38, 50, 3)\n",
      "../dataSet/test/benign/9226_idx5_x151_y2801_class0.png\t (38, 50, 3)\n",
      "../dataSet/test/benign/9226_idx5_x1551_y2801_class0.png\t (38, 50, 3)\n",
      "../dataSet/test/benign/9226_idx5_x1601_y2801_class0.png\t (38, 50, 3)\n",
      "../dataSet/test/benign/9226_idx5_x1651_y2801_class0.png\t (38, 50, 3)\n",
      "../dataSet/test/benign/9226_idx5_x1701_y2801_class0.png\t (38, 50, 3)\n",
      "../dataSet/test/benign/9226_idx5_x1751_y2801_class0.png\t (38, 50, 3)\n",
      "../dataSet/test/benign/9226_idx5_x1801_y2801_class0.png\t (38, 50, 3)\n",
      "../dataSet/test/benign/9226_idx5_x1851_y2801_class0.png\t (38, 50, 3)\n",
      "../dataSet/test/benign/9226_idx5_x1901_y2801_class0.png\t (38, 50, 3)\n",
      "../dataSet/test/benign/9226_idx5_x1951_y2801_class0.png\t (38, 50, 3)\n",
      "../dataSet/test/benign/9226_idx5_x1_y2801_class0.png\t (38, 50, 3)\n",
      "../dataSet/test/benign/9226_idx5_x2001_y2801_class0.png\t (38, 50, 3)\n",
      "../dataSet/test/benign/9226_idx5_x201_y2801_class0.png\t (38, 50, 3)\n",
      "../dataSet/test/benign/9226_idx5_x2051_y2801_class0.png\t (38, 50, 3)\n",
      "../dataSet/test/benign/9226_idx5_x2101_y2801_class0.png\t (38, 50, 3)\n",
      "../dataSet/test/benign/9226_idx5_x2151_y2801_class0.png\t (38, 50, 3)\n",
      "../dataSet/test/benign/9226_idx5_x2201_y2801_class0.png\t (38, 50, 3)\n",
      "../dataSet/test/benign/9226_idx5_x2251_y2801_class0.png\t (38, 50, 3)\n",
      "../dataSet/test/benign/9226_idx5_x2301_y2801_class0.png\t (38, 50, 3)\n",
      "../dataSet/test/benign/9226_idx5_x2351_y2801_class0.png\t (38, 50, 3)\n",
      "../dataSet/test/benign/9226_idx5_x2401_y2801_class0.png\t (38, 50, 3)\n",
      "../dataSet/test/benign/9226_idx5_x2451_y2801_class0.png\t (38, 50, 3)\n",
      "../dataSet/test/benign/9226_idx5_x2501_y2801_class0.png\t (38, 50, 3)\n",
      "../dataSet/test/benign/9226_idx5_x251_y2801_class0.png\t (38, 50, 3)\n",
      "../dataSet/test/benign/9226_idx5_x2551_y2801_class0.png\t (38, 50, 3)\n",
      "../dataSet/test/benign/9226_idx5_x2601_y2801_class0.png\t (38, 50, 3)\n",
      "../dataSet/test/benign/9226_idx5_x2651_y2801_class0.png\t (38, 50, 3)\n",
      "../dataSet/test/benign/9226_idx5_x2701_y2801_class0.png\t (38, 50, 3)\n",
      "../dataSet/test/benign/9226_idx5_x2751_y2801_class0.png\t (38, 50, 3)\n",
      "../dataSet/test/benign/9226_idx5_x2801_y2801_class0.png\t (38, 50, 3)\n",
      "../dataSet/test/benign/9226_idx5_x2851_y2801_class0.png\t (38, 50, 3)\n",
      "../dataSet/test/benign/9226_idx5_x2901_y2801_class0.png\t (38, 50, 3)\n",
      "../dataSet/test/benign/9226_idx5_x2951_y2801_class0.png\t (38, 50, 3)\n",
      "../dataSet/test/benign/9226_idx5_x3001_y2801_class0.png\t (38, 50, 3)\n",
      "../dataSet/test/benign/9226_idx5_x301_y2801_class0.png\t (38, 50, 3)\n",
      "../dataSet/test/benign/9226_idx5_x3051_y2801_class0.png\t (38, 50, 3)\n",
      "../dataSet/test/benign/9226_idx5_x3101_y2801_class0.png\t (38, 50, 3)\n",
      "../dataSet/test/benign/9226_idx5_x3151_y2801_class0.png\t (38, 50, 3)\n",
      "../dataSet/test/benign/9226_idx5_x3201_y2801_class0.png\t (38, 50, 3)\n",
      "../dataSet/test/benign/9226_idx5_x3251_y2801_class0.png\t (38, 50, 3)\n",
      "../dataSet/test/benign/9226_idx5_x3301_y2801_class0.png\t (38, 50, 3)\n",
      "../dataSet/test/benign/9226_idx5_x3351_y2801_class0.png\t (38, 12, 3)\n",
      "../dataSet/test/benign/9226_idx5_x351_y2801_class0.png\t (38, 50, 3)\n",
      "../dataSet/test/benign/9226_idx5_x401_y2801_class0.png\t (38, 50, 3)\n",
      "../dataSet/test/benign/9226_idx5_x451_y2801_class0.png\t (38, 50, 3)\n",
      "../dataSet/test/benign/9226_idx5_x501_y2801_class0.png\t (38, 50, 3)\n",
      "../dataSet/test/benign/9226_idx5_x51_y2801_class0.png\t (38, 50, 3)\n",
      "../dataSet/test/benign/9226_idx5_x551_y2801_class0.png\t (38, 50, 3)\n",
      "../dataSet/test/benign/9226_idx5_x601_y2801_class0.png\t (38, 50, 3)\n",
      "../dataSet/test/benign/9226_idx5_x651_y2801_class0.png\t (38, 50, 3)\n",
      "../dataSet/test/benign/9226_idx5_x701_y2801_class0.png\t (38, 50, 3)\n",
      "../dataSet/test/benign/9226_idx5_x751_y2801_class0.png\t (38, 50, 3)\n",
      "../dataSet/test/benign/9226_idx5_x801_y2801_class0.png\t (38, 50, 3)\n"
     ]
    },
    {
     "ename": "KeyboardInterrupt",
     "evalue": "",
     "output_type": "error",
     "traceback": [
      "\u001b[0;31m-------------------------------------------------------------------\u001b[0m",
      "\u001b[0;31mKeyboardInterrupt\u001b[0m                 Traceback (most recent call last)",
      "\u001b[0;32m<ipython-input-11-fa32485cba80>\u001b[0m in \u001b[0;36m<module>\u001b[0;34m\u001b[0m\n\u001b[0;32m----> 1\u001b[0;31m \u001b[0mpreprocessing\u001b[0m\u001b[0;34m.\u001b[0m\u001b[0mCheckImages\u001b[0m\u001b[0;34m(\u001b[0m\u001b[0;34m\"test/benign/\"\u001b[0m\u001b[0;34m)\u001b[0m\u001b[0;34m\u001b[0m\u001b[0;34m\u001b[0m\u001b[0m\n\u001b[0m",
      "\u001b[0;32m/mnt/f/PythonDevelopment/DSS-Cancer/preprocessing.py\u001b[0m in \u001b[0;36mCheckImages\u001b[0;34m(self, folderPath)\u001b[0m\n\u001b[1;32m     23\u001b[0m         \u001b[0mimages\u001b[0m \u001b[0;34m=\u001b[0m \u001b[0;34m[\u001b[0m\u001b[0;34m]\u001b[0m\u001b[0;34m\u001b[0m\u001b[0;34m\u001b[0m\u001b[0m\n\u001b[1;32m     24\u001b[0m         \u001b[0;32mfor\u001b[0m \u001b[0mfilename\u001b[0m \u001b[0;32min\u001b[0m \u001b[0mos\u001b[0m\u001b[0;34m.\u001b[0m\u001b[0mlistdir\u001b[0m\u001b[0;34m(\u001b[0m\u001b[0mfolder\u001b[0m\u001b[0;34m)\u001b[0m\u001b[0;34m:\u001b[0m\u001b[0;34m\u001b[0m\u001b[0;34m\u001b[0m\u001b[0m\n\u001b[0;32m---> 25\u001b[0;31m             \u001b[0mimage\u001b[0m \u001b[0;34m=\u001b[0m \u001b[0mcv\u001b[0m\u001b[0;34m.\u001b[0m\u001b[0mimread\u001b[0m\u001b[0;34m(\u001b[0m\u001b[0mos\u001b[0m\u001b[0;34m.\u001b[0m\u001b[0mpath\u001b[0m\u001b[0;34m.\u001b[0m\u001b[0mjoin\u001b[0m\u001b[0;34m(\u001b[0m\u001b[0mfolder\u001b[0m\u001b[0;34m,\u001b[0m \u001b[0mfilename\u001b[0m\u001b[0;34m)\u001b[0m\u001b[0;34m)\u001b[0m\u001b[0;34m\u001b[0m\u001b[0;34m\u001b[0m\u001b[0m\n\u001b[0m\u001b[1;32m     26\u001b[0m             \u001b[0;32mif\u001b[0m \u001b[0mimage\u001b[0m\u001b[0;34m.\u001b[0m\u001b[0mshape\u001b[0m \u001b[0;34m!=\u001b[0m \u001b[0;34m(\u001b[0m\u001b[0;36m50\u001b[0m\u001b[0;34m,\u001b[0m \u001b[0;36m50\u001b[0m\u001b[0;34m,\u001b[0m \u001b[0;36m3\u001b[0m\u001b[0;34m)\u001b[0m\u001b[0;34m:\u001b[0m\u001b[0;34m\u001b[0m\u001b[0;34m\u001b[0m\u001b[0m\n\u001b[1;32m     27\u001b[0m                 \u001b[0mprint\u001b[0m\u001b[0;34m(\u001b[0m\u001b[0;34mf\"{os.path.join(folder, filename)}\\t {image.shape}\"\u001b[0m\u001b[0;34m)\u001b[0m\u001b[0;34m\u001b[0m\u001b[0;34m\u001b[0m\u001b[0m\n",
      "\u001b[0;31mKeyboardInterrupt\u001b[0m: "
     ]
    }
   ],
   "source": [
    "preprocessing.CheckImages(\"test/benign/\")"
   ]
  },
  {
   "cell_type": "code",
   "execution_count": null,
   "metadata": {},
   "outputs": [],
   "source": []
  }
 ],
 "metadata": {
  "kernelspec": {
   "display_name": "Python 3",
   "language": "python",
   "name": "python3"
  },
  "language_info": {
   "codemirror_mode": {
    "name": "ipython",
    "version": 3
   },
   "file_extension": ".py",
   "mimetype": "text/x-python",
   "name": "python",
   "nbconvert_exporter": "python",
   "pygments_lexer": "ipython3",
   "version": "3.8.5"
  }
 },
 "nbformat": 4,
 "nbformat_minor": 4
}
